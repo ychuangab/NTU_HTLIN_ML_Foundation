{
 "cells": [
  {
   "cell_type": "code",
   "execution_count": 226,
   "metadata": {},
   "outputs": [
    {
     "name": "stdout",
     "output_type": "stream",
     "text": [
      "Data size:400, Dimension:4\n"
     ]
    }
   ],
   "source": [
    "\"\"\"\n",
    "This notebook is for parctice only.\n",
    "The course is \"Machine Learning Foundation\" by H.T. Lin, NTU, on Cousera.\n",
    "\n",
    "\"\"\"\n",
    "\n",
    "import re\n",
    "import numpy as np\n",
    "\n",
    "def readData(filename):\n",
    "    result = []\n",
    "    with open(filename,'r') as f:\n",
    "        str_line = f.readline()\n",
    "        while str_line:\n",
    "            re_line = re.split(pattern='\\n| |\\b|\\t', string=str_line)[0:-1]\n",
    "            nu_line = [float(i) for i in re_line]\n",
    "            result.append(nu_line)\n",
    "            str_line = f.readline() #next line\n",
    "    result = np.array(result)\n",
    "    return result\n",
    "\n",
    "data = readData(\"\\dataset\\hw1_15_train.txt\")\n",
    "\n",
    "data_X = data[:,:-1]\n",
    "data_Y = np.int32(data[:,-1])\n",
    "\n",
    "size = data_X.shape[0]\n",
    "dims = data_X.shape[1]\n",
    "print('Data size:{}, Dimension:{}'.format(size, dims))"
   ]
  },
  {
   "cell_type": "code",
   "execution_count": 161,
   "metadata": {},
   "outputs": [
    {
     "data": {
      "text/plain": [
       "array([[0.97681 , 0.10723 , 0.64385 , 0.29556 ],\n",
       "       [0.67194 , 0.2418  , 0.83075 , 0.42741 ],\n",
       "       [0.20619 , 0.23321 , 0.81004 , 0.98691 ],\n",
       "       [0.51583 , 0.055814, 0.92274 , 0.75797 ],\n",
       "       [0.70893 , 0.10836 , 0.33951 , 0.77058 ],\n",
       "       [0.55743 , 0.67804 , 0.061044, 0.72689 ],\n",
       "       [0.15654 , 0.75584 , 0.01122 , 0.42598 ],\n",
       "       [0.50462 , 0.15137 , 0.33878 , 0.41881 ],\n",
       "       [0.22657 , 0.59272 , 0.24103 , 0.46221 ],\n",
       "       [0.49174 , 0.65115 , 0.24622 , 0.24796 ]])"
      ]
     },
     "execution_count": 161,
     "metadata": {},
     "output_type": "execute_result"
    }
   ],
   "source": [
    "data_X[0:10]"
   ]
  },
  {
   "cell_type": "code",
   "execution_count": 162,
   "metadata": {},
   "outputs": [
    {
     "data": {
      "text/plain": [
       "array([ 1,  1,  1,  1,  1,  1, -1,  1, -1, -1])"
      ]
     },
     "execution_count": 162,
     "metadata": {},
     "output_type": "execute_result"
    }
   ],
   "source": [
    "data_Y[0:10]"
   ]
  },
  {
   "cell_type": "code",
   "execution_count": 266,
   "metadata": {},
   "outputs": [],
   "source": [
    "def pla(X, Y):\n",
    "    \"\"\"\n",
    "    Use formula: w_new = w + y*x to update w if the sign of wx and y are different (wx*y is negative)\n",
    "    After we updated the w when we find such different on one of the data for some cycle c, \n",
    "    we should keep finish that cycle rather than break that iteration.\n",
    "    \"\"\"\n",
    "  \n",
    "    # data shape\n",
    "    size = X.shape[0]\n",
    "    dims = X.shape[1]\n",
    "    \n",
    "    # initialization weights of zeros, and insert x0=1 to the end of x\n",
    "    X0 = np.ones((size,1))\n",
    "    X = np.concatenate((X, X0), axis=1) #insert ones horizontaly\n",
    "    W = np.zeros((dims+1))\n",
    "    \n",
    "    # define loop control parameters\n",
    "    iter_times = 0\n",
    "    error_indices = []\n",
    "    correct_times_prev = 0\n",
    "    correct_times = 0\n",
    "    #print(X)\n",
    "        \n",
    "    while True:     \n",
    "        #Search for error x index such that sign(w*x) != y        \n",
    "        for i in range(0, size):         \n",
    "            x = X[i]\n",
    "            y = Y[i]\n",
    "            pred = np.dot(W, x) \n",
    "            \n",
    "            \n",
    "            #update the weights if the sign of pred * y is negative\n",
    "            if pred * y <= 0:\n",
    "                error_indices.append(i)\n",
    "                correct_times = len(error_indices)\n",
    "                W += y*x\n",
    "                                \n",
    "        #break while loop if all example is checked\n",
    "        if correct_times == correct_times_prev  or iter_times > 1000:\n",
    "            break\n",
    "            \n",
    "        #print(correct_times_prev, correct_times)\n",
    "        correct_times_prev = correct_times    \n",
    "        iter_times += 1\n",
    "        \n",
    "    return W, correct_times"
   ]
  },
  {
   "cell_type": "code",
   "execution_count": 278,
   "metadata": {},
   "outputs": [
    {
     "data": {
      "text/plain": [
       "(array([ 3.0841436, -1.583081 ,  2.391305 ,  4.5287635, -3.       ]), 45)"
      ]
     },
     "execution_count": 278,
     "metadata": {},
     "output_type": "execute_result"
    }
   ],
   "source": [
    "#Answer for HW1-15\n",
    "pla(X=data_X, Y=data_Y)"
   ]
  },
  {
   "cell_type": "code",
   "execution_count": 268,
   "metadata": {},
   "outputs": [],
   "source": [
    "def random_index(N, random_seed=0):\n",
    "    import random\n",
    "    random.seed(random_seed)\n",
    "    items = list(range(0, N))\n",
    "    random_items = random.sample(items, len(items))\n",
    "    return random_items"
   ]
  },
  {
   "cell_type": "code",
   "execution_count": 275,
   "metadata": {},
   "outputs": [],
   "source": [
    "def pla_optimized(X, Y, random_seed=0, eta=1):\n",
    "    \"\"\"\n",
    "    This version perform a random index list and eta when updating w. \n",
    "    Note the original version is just under the condition with sorted indice of data and eta=1.\n",
    "    \n",
    "    ---\n",
    "    Use formula: w_new = w + y*x to update w if the sign of wx and y are different (wx*y is negative)\n",
    "    After we updated the w when we find such different on one of the data for some cycle c, \n",
    "    we should keep finish that cycle rather than break that iteration.\n",
    "    \"\"\"\n",
    "  \n",
    "    # data shape\n",
    "    size = X.shape[0]\n",
    "    dims = X.shape[1]\n",
    "    \n",
    "    # initialization weights of zeros, and insert x0=1 to the end of x\n",
    "    X0 = np.ones((size,1))\n",
    "    X = np.concatenate((X, X0), axis=1) #insert ones horizontaly\n",
    "    W = np.zeros((dims+1))\n",
    "    \n",
    "    # define loop control parameters\n",
    "    iter_times = 0\n",
    "    error_indices = []\n",
    "    correct_times_prev = 0\n",
    "    correct_times = 0\n",
    "    #print(X)\n",
    "        \n",
    "    while True:     \n",
    "        #Search for error x index such that sign(w*x) != y        \n",
    "        for i in random_index(N=size, random_seed=random_seed):         \n",
    "            x = X[i]\n",
    "            y = Y[i]\n",
    "            pred = np.dot(W, x) \n",
    "            \n",
    "            \n",
    "            #update the weights if the sign of pred * y is negative\n",
    "            if pred * y <= 0:\n",
    "                error_indices.append(i)\n",
    "                correct_times = len(error_indices)\n",
    "                W += y*x\n",
    "                                \n",
    "        #break while loop if all example is checked\n",
    "        if correct_times == correct_times_prev  or iter_times > 1000:\n",
    "            break\n",
    "            \n",
    "        #print(correct_times_prev, correct_times)\n",
    "        correct_times_prev = correct_times    \n",
    "        iter_times += 1\n",
    "        \n",
    "    return W, correct_times"
   ]
  },
  {
   "cell_type": "code",
   "execution_count": 284,
   "metadata": {
    "scrolled": true
   },
   "outputs": [],
   "source": [
    "def avg_correct_times(experiment_times, random_seed=0, eta=1):\n",
    "    correct_times = np.zeros((experiment_times))\n",
    "    \n",
    "    print(\"experiment_times:\")\n",
    "    \n",
    "    for i in range(experiment_times):\n",
    "        if random_seed % 100 == 0:\n",
    "            print(\"{} / {}\".format(random_seed, experiment_times))\n",
    "        correct_times[i] = pla_optimized(X=data_X, Y=data_Y, random_seed=random_seed, eta=eta)[1]\n",
    "        random_seed += 1\n",
    "        \n",
    "    avg_correct_times = np.mean(correct_times)\n",
    "    return avg_correct_times"
   ]
  },
  {
   "cell_type": "code",
   "execution_count": 280,
   "metadata": {},
   "outputs": [
    {
     "name": "stdout",
     "output_type": "stream",
     "text": [
      "experiment_times:\n",
      "0 / 2000\n",
      "100 / 2000\n",
      "200 / 2000\n",
      "300 / 2000\n",
      "400 / 2000\n",
      "500 / 2000\n",
      "600 / 2000\n",
      "700 / 2000\n",
      "800 / 2000\n",
      "900 / 2000\n",
      "1000 / 2000\n",
      "1100 / 2000\n",
      "1200 / 2000\n",
      "1300 / 2000\n",
      "1400 / 2000\n",
      "1500 / 2000\n",
      "1600 / 2000\n",
      "1700 / 2000\n",
      "1800 / 2000\n",
      "1900 / 2000\n"
     ]
    },
    {
     "data": {
      "text/plain": [
       "39.763"
      ]
     },
     "execution_count": 280,
     "metadata": {},
     "output_type": "execute_result"
    }
   ],
   "source": [
    "#Answer for HW1-16\n",
    "avg_correct_times(experiment_times=2000, random_seed=0, eta=1)"
   ]
  },
  {
   "cell_type": "code",
   "execution_count": 282,
   "metadata": {},
   "outputs": [
    {
     "name": "stdout",
     "output_type": "stream",
     "text": [
      "experiment_times:\n",
      "0 / 2000\n",
      "100 / 2000\n",
      "200 / 2000\n",
      "300 / 2000\n",
      "400 / 2000\n",
      "500 / 2000\n",
      "600 / 2000\n",
      "700 / 2000\n",
      "800 / 2000\n",
      "900 / 2000\n",
      "1000 / 2000\n",
      "1100 / 2000\n",
      "1200 / 2000\n",
      "1300 / 2000\n",
      "1400 / 2000\n",
      "1500 / 2000\n",
      "1600 / 2000\n",
      "1700 / 2000\n",
      "1800 / 2000\n",
      "1900 / 2000\n"
     ]
    },
    {
     "data": {
      "text/plain": [
       "39.763"
      ]
     },
     "execution_count": 282,
     "metadata": {},
     "output_type": "execute_result"
    }
   ],
   "source": [
    "#Answer for HW1-17: learning rate eta set to be 0.5\n",
    "avg_correct_times(experiment_times=2000, random_seed=0, eta=0.5)"
   ]
  },
  {
   "cell_type": "code",
   "execution_count": 286,
   "metadata": {},
   "outputs": [
    {
     "name": "stdout",
     "output_type": "stream",
     "text": [
      "Training Data size:500, Testing Data size:500, Dimension:4\n"
     ]
    }
   ],
   "source": [
    "data_18_train = readData(\"C://Users/YCChen/Desktop/hw1_18_train.txt\")\n",
    "data_18_test = readData(\"C://Users/YCChen/Desktop/hw1_18_test.txt\")\n",
    "\n",
    "data_18_train_X = data_18_train[:,:-1]\n",
    "data_18_train_Y = np.int32(data_18_train[:,-1])\n",
    "data_18_test_X = data_18_test[:,:-1]\n",
    "data_18_test_Y = np.int32(data_18_test[:,-1])\n",
    "\n",
    "train_size = data_18_train_X.shape[0]\n",
    "test_size = data_18_test_X.shape[0]\n",
    "dims = data_18_train_X.shape[1]\n",
    "print('Training Data size:{}, Testing Data size:{}, Dimension:{}'.format(train_size, test_size, dims))"
   ]
  },
  {
   "cell_type": "code",
   "execution_count": 336,
   "metadata": {},
   "outputs": [],
   "source": [
    "def pocket_weight_evaluation(W, X, Y):\n",
    "    evaluation_result = 0\n",
    "    size = X.shape[0]\n",
    "    for i in range(size):\n",
    "        x = X[i]\n",
    "        y = Y[i]\n",
    "        pred = np.dot(W, x)\n",
    "        if pred * y <= 0:\n",
    "            evaluation_result += 1/size\n",
    "    #print(evaluation_result)\n",
    "    \n",
    "    return evaluation_result"
   ]
  },
  {
   "cell_type": "code",
   "execution_count": 430,
   "metadata": {},
   "outputs": [],
   "source": [
    "def pocket(X, Y, random_seed=0, max_correct_times = 50, pocket=1):\n",
    "    \"\"\"\n",
    "    if pocket == 0 , this becomes a PLA with fixed corrected times\n",
    "    \"\"\"\n",
    "    # data shape\n",
    "    size = X.shape[0]\n",
    "    dims = X.shape[1]\n",
    "    \n",
    "    # initialization weights of zeros, and insert x0=1 to the end of x\n",
    "    X0 = np.ones((size,1))\n",
    "    X = np.concatenate((X, X0), axis=1) #insert ones horizontaly\n",
    "    W = np.zeros((dims+1))\n",
    "    \n",
    "    # define loop control parameters\n",
    "    iter_times = 0\n",
    "    error_indices = []\n",
    "    correct_times_prev = 0 # no use in pocket\n",
    "    correct_times = 0\n",
    "    evaluation_flag = False\n",
    "    evaluation_prev = 1.01\n",
    "    evaluation = 1\n",
    "    W_best = np.copy(W) #don't use W_best = W, W_best will change along with W\n",
    "    #print(X)\n",
    "        \n",
    "    while correct_times < max_correct_times:     \n",
    "        #Search for error x index such that sign(w*x) != y        \n",
    "        random_range = random_index(N=size, random_seed=random_seed)\n",
    "        for i in random_range:         \n",
    "            x = X[i]\n",
    "            y = Y[i]\n",
    "            pred = np.dot(W, x) \n",
    "            \n",
    "            \n",
    "            #update the weight if the sign of pred * y is negative\n",
    "            if pred * y <= 0:\n",
    "                error_indices.append(i)\n",
    "                correct_times = len(error_indices)\n",
    "                W += y*x\n",
    "                evaluation_flag = True\n",
    "            else: evaluation_flag = False\n",
    "                \n",
    "            #When W is updated, and pocket=1, it will be turn on to evaluate no. of errors,\n",
    "            #check the # of error with W just updated above\n",
    "            if pocket == 1 and evaluation_flag:\n",
    "                evaluation = pocket_weight_evaluation(W, X, Y)\n",
    "                \n",
    "                # compare # of error with ones in the pocket, if newest is better, we replace the old one by it.\n",
    "                if evaluation < evaluation_prev:\n",
    "                    evaluation_prev = evaluation\n",
    "                    W_best = np.copy(W)\n",
    "            \n",
    "            #Directly pass W to W_best if pocket == 0, and it's just a pla \n",
    "            if pocket == 0:\n",
    "                W_best = np.copy(W)\n",
    "                \n",
    "            #break loop rule\n",
    "            if correct_times >= max_correct_times:\n",
    "                break\n",
    "                \n",
    "                                \n",
    "        #break the while loop if all example has been checked and there are no more updating on the weight. \n",
    "        #(only if the data is linearly separable)\n",
    "        #\n",
    "        # for pocket we don't break while, so the following line is hidden\n",
    "        #\n",
    "        #if correct_times == correct_times_prev or iter_times > 1000:\n",
    "        #    break\n",
    "        \n",
    "        correct_times_prev = correct_times # no use in pocket\n",
    "        iter_times += 1\n",
    "        \n",
    "    return W_best, correct_times"
   ]
  },
  {
   "cell_type": "code",
   "execution_count": 431,
   "metadata": {},
   "outputs": [
    {
     "name": "stdout",
     "output_type": "stream",
     "text": [
      "0 / 2000\n",
      "100 / 2000\n",
      "200 / 2000\n",
      "300 / 2000\n",
      "400 / 2000\n",
      "500 / 2000\n",
      "600 / 2000\n",
      "700 / 2000\n",
      "800 / 2000\n",
      "900 / 2000\n",
      "1000 / 2000\n",
      "1100 / 2000\n",
      "1200 / 2000\n",
      "1300 / 2000\n",
      "1400 / 2000\n",
      "1500 / 2000\n",
      "1600 / 2000\n",
      "1700 / 2000\n",
      "1800 / 2000\n",
      "1900 / 2000\n"
     ]
    }
   ],
   "source": [
    "# Derive W_best list 2000 times with different seeds...\n",
    "W_best_list = []\n",
    "experiment_times = 2000\n",
    "\n",
    "for random_seed in range(experiment_times):\n",
    "    if random_seed % 100 == 0:\n",
    "            print(\"{} / {}\".format(random_seed, experiment_times))\n",
    "    W_best_list.append(pocket(data_18_train_X, data_18_train_Y, random_seed=random_seed, max_correct_times = 50)[0])"
   ]
  },
  {
   "cell_type": "code",
   "execution_count": 432,
   "metadata": {},
   "outputs": [],
   "source": [
    "error_rate = []\n",
    "\n",
    "X0 = np.ones((test_size,1))\n",
    "data_18_test_X_ = np.concatenate((data_18_test_X, X0), axis=1) #insert ones horizontaly\n",
    "\n",
    "for W_best in W_best_list:\n",
    "    error_rate.append(pocket_weight_evaluation(W=W_best, X=data_18_test_X_, Y=data_18_test_Y))"
   ]
  },
  {
   "cell_type": "code",
   "execution_count": 433,
   "metadata": {},
   "outputs": [
    {
     "data": {
      "text/plain": [
       "0.13208800000000007"
      ]
     },
     "execution_count": 433,
     "metadata": {},
     "output_type": "execute_result"
    }
   ],
   "source": [
    "#Answer for HW1-18:\n",
    "np.mean(error_rate)"
   ]
  },
  {
   "cell_type": "code",
   "execution_count": 434,
   "metadata": {},
   "outputs": [
    {
     "name": "stdout",
     "output_type": "stream",
     "text": [
      "0 / 2000\n",
      "100 / 2000\n",
      "200 / 2000\n",
      "300 / 2000\n",
      "400 / 2000\n",
      "500 / 2000\n",
      "600 / 2000\n",
      "700 / 2000\n",
      "800 / 2000\n",
      "900 / 2000\n",
      "1000 / 2000\n",
      "1100 / 2000\n",
      "1200 / 2000\n",
      "1300 / 2000\n",
      "1400 / 2000\n",
      "1500 / 2000\n",
      "1600 / 2000\n",
      "1700 / 2000\n",
      "1800 / 2000\n",
      "1900 / 2000\n"
     ]
    }
   ],
   "source": [
    "# Derive W_best list 2000 times with different seeds...\n",
    "W_best_list1 = []\n",
    "experiment_times = 2000\n",
    "\n",
    "for random_seed in range(experiment_times):\n",
    "    if random_seed % 100 == 0:\n",
    "            print(\"{} / {}\".format(random_seed, experiment_times))\n",
    "    W_best_list1.append(pocket(data_18_train_X, data_18_train_Y, random_seed=random_seed, max_correct_times = 50, pocket=0)[0])\n"
   ]
  },
  {
   "cell_type": "code",
   "execution_count": 435,
   "metadata": {},
   "outputs": [],
   "source": [
    "error_rate1 = []\n",
    "\n",
    "for W_best1 in W_best_list1:\n",
    "    error_rate1.append(pocket_weight_evaluation(W=W_best1, X=data_18_test_X_, Y=data_18_test_Y))"
   ]
  },
  {
   "cell_type": "code",
   "execution_count": 436,
   "metadata": {},
   "outputs": [
    {
     "data": {
      "text/plain": [
       "0.35972800000000016"
      ]
     },
     "execution_count": 436,
     "metadata": {},
     "output_type": "execute_result"
    }
   ],
   "source": [
    "#Answer for HW1-19:\n",
    "np.mean(error_rate1)"
   ]
  },
  {
   "cell_type": "code",
   "execution_count": 437,
   "metadata": {},
   "outputs": [
    {
     "name": "stdout",
     "output_type": "stream",
     "text": [
      "0 / 2000\n",
      "100 / 2000\n",
      "200 / 2000\n",
      "300 / 2000\n",
      "400 / 2000\n",
      "500 / 2000\n",
      "600 / 2000\n",
      "700 / 2000\n",
      "800 / 2000\n",
      "900 / 2000\n",
      "1000 / 2000\n",
      "1100 / 2000\n",
      "1200 / 2000\n",
      "1300 / 2000\n",
      "1400 / 2000\n",
      "1500 / 2000\n",
      "1600 / 2000\n",
      "1700 / 2000\n",
      "1800 / 2000\n",
      "1900 / 2000\n"
     ]
    }
   ],
   "source": [
    "# Derive W_best__ list 2000 times with different seeds...\n",
    "W_best_list_100 = []\n",
    "experiment_times = 2000\n",
    "\n",
    "for random_seed in range(experiment_times):\n",
    "    if random_seed % 100 == 0:\n",
    "            print(\"{} / {}\".format(random_seed, experiment_times))\n",
    "    W_best_list_100.append(pocket(data_18_train_X, data_18_train_Y, random_seed=random_seed, max_correct_times = 100)[0])"
   ]
  },
  {
   "cell_type": "code",
   "execution_count": 438,
   "metadata": {},
   "outputs": [],
   "source": [
    "error_rate100 = []\n",
    "\n",
    "for W_best100 in W_best_list_100:\n",
    "    error_rate100.append(pocket_weight_evaluation(W=W_best100, X=data_18_test_X_, Y=data_18_test_Y))"
   ]
  },
  {
   "cell_type": "code",
   "execution_count": 439,
   "metadata": {
    "scrolled": true
   },
   "outputs": [
    {
     "data": {
      "text/plain": [
       "0.11416900000000009"
      ]
     },
     "execution_count": 439,
     "metadata": {},
     "output_type": "execute_result"
    }
   ],
   "source": [
    "#Answer for HW1-20:\n",
    "np.mean(error_rate100)"
   ]
  },
  {
   "cell_type": "code",
   "execution_count": null,
   "metadata": {},
   "outputs": [],
   "source": []
  },
  {
   "cell_type": "code",
   "execution_count": null,
   "metadata": {},
   "outputs": [],
   "source": []
  },
  {
   "cell_type": "code",
   "execution_count": null,
   "metadata": {},
   "outputs": [],
   "source": []
  },
  {
   "cell_type": "code",
   "execution_count": null,
   "metadata": {},
   "outputs": [],
   "source": []
  },
  {
   "cell_type": "code",
   "execution_count": null,
   "metadata": {},
   "outputs": [],
   "source": []
  },
  {
   "cell_type": "code",
   "execution_count": null,
   "metadata": {},
   "outputs": [],
   "source": []
  },
  {
   "cell_type": "code",
   "execution_count": null,
   "metadata": {},
   "outputs": [],
   "source": []
  }
 ],
 "metadata": {
  "kernelspec": {
   "display_name": "Python 3",
   "language": "python",
   "name": "python3"
  },
  "language_info": {
   "codemirror_mode": {
    "name": "ipython",
    "version": 3
   },
   "file_extension": ".py",
   "mimetype": "text/x-python",
   "name": "python",
   "nbconvert_exporter": "python",
   "pygments_lexer": "ipython3",
   "version": "3.6.8"
  }
 },
 "nbformat": 4,
 "nbformat_minor": 2
}
